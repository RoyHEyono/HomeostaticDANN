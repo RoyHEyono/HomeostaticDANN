{
 "cells": [
  {
   "cell_type": "code",
   "execution_count": 1,
   "metadata": {},
   "outputs": [
    {
     "name": "stderr",
     "output_type": "stream",
     "text": [
      "/home/mila/r/roy.eyono/.conda/envs/ffcv_eg/lib/python3.9/site-packages/tqdm/auto.py:22: TqdmWarning: IProgress not found. Please update jupyter and ipywidgets. See https://ipywidgets.readthedocs.io/en/stable/user_install.html\n",
      "  from .autonotebook import tqdm as notebook_tqdm\n"
     ]
    }
   ],
   "source": [
    "import torch\n",
    "import wandb\n",
    "import ast\n",
    "import argparse\n",
    "import re\n",
    "import os"
   ]
  },
  {
   "cell_type": "code",
   "execution_count": 3,
   "metadata": {},
   "outputs": [
    {
     "name": "stdout",
     "output_type": "stream",
     "text": [
      "900\n",
      "<class 'str'>\n",
      "NestedNamespace(wei=0.0001, wix=0.001)\n",
      "{'wei': '0.0001', 'wix': '0.001'}\n",
      "0.1 0.001 0.0001 0.001 0.9 ln 512\n",
      "Submitted batch job 3187778\n",
      "Submitted batch job 3187779\n",
      "Submitted batch job 3187780\n",
      "Submitted batch job 3187781\n",
      "Submitted batch job 3187782\n",
      "Submitted batch job 3187783\n"
     ]
    }
   ],
   "source": [
    "api = wandb.Api()\n",
    "\n",
    "# create array of different normalization types\n",
    "normtypes = [\"ln\"] #[\"bn\", \"ln\", \"c_ln\", \"c_ln_sub\", \"c_ln_div\", \"None\"]\n",
    "is_dann = False\n",
    "project_name = \"Normalization_DANN_Test\"\n",
    "org_name = \"project_danns\"\n",
    "use_wandb = True\n",
    "use_testset = True\n",
    "\n",
    "# Get best run for each normalization type\n",
    "for normtype in normtypes:\n",
    "  runs = api.runs(path=\"project_danns/Homeostasis_Lagrange_DANN\", order= \"-summary_metrics.test_acc\") #, filters={\"config.is_dann\":is_dann, \"config.normtype\": normtype})\n",
    "  print(len(runs))\n",
    "  if len(runs) > 0:\n",
    "    config = runs[0].config\n",
    "    #print(config)\n",
    "    print(type(config['inhib_lrs']))\n",
    "    print(config['inhib_lrs'])\n",
    "\n",
    "    # Define the namespace string\n",
    "    ns_str = config['inhib_lrs']\n",
    "\n",
    "    # Define a regular expression to extract the attribute names and values\n",
    "    pattern = r\"(\\w+)\\s*=\\s*([^),]+)\"\n",
    "    \n",
    "\n",
    "    # Extract the attribute names and values using the regular expression\n",
    "    matches = re.findall(pattern, ns_str)\n",
    "\n",
    "    # Convert the matches to a dictionary\n",
    "    ns_dict = dict(matches)\n",
    "\n",
    "    # Print the resulting dictionary\n",
    "    print(ns_dict)\n",
    "    print(config['lr'], config['wd'], float(ns_dict['wei']), float(ns_dict['wix']), config['momentum'], config['normtype'], config['batch_size'])\n",
    "\n",
    "    # Call slurm script using the config parameters\n",
    "\n",
    "    for seed in range(3,9):\n",
    "\n",
    "      # Make a comand using os.system\n",
    "      os.system(f\"sbatch slurm_test_job.sh {is_dann} {config['lr']} {config['wd']} {config['momentum']} {float(ns_dict['wei'])} {float(ns_dict['wix'])} {config['batch_size']} {config['normtype']} {seed}\")\n",
    "    "
   ]
  },
  {
   "cell_type": "code",
   "execution_count": null,
   "metadata": {},
   "outputs": [],
   "source": []
  }
 ],
 "metadata": {
  "kernelspec": {
   "display_name": "Python 3.9.16 ('base')",
   "language": "python",
   "name": "python3"
  },
  "language_info": {
   "codemirror_mode": {
    "name": "ipython",
    "version": 3
   },
   "file_extension": ".py",
   "mimetype": "text/x-python",
   "name": "python",
   "nbconvert_exporter": "python",
   "pygments_lexer": "ipython3",
   "version": "3.9.16"
  },
  "orig_nbformat": 4,
  "vscode": {
   "interpreter": {
    "hash": "b43c32d3952eee6df6fb1ce50623906889d4e56d9626a8ed79492ee68359d256"
   }
  }
 },
 "nbformat": 4,
 "nbformat_minor": 2
}
