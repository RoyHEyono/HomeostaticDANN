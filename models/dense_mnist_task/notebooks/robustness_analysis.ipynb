{
 "cells": [
  {
   "cell_type": "code",
   "execution_count": 11,
   "metadata": {},
   "outputs": [],
   "source": [
    "import torch\n",
    "import torchvision\n",
    "from danns_eg.data.mnist import get_sparse_permutation_invariant_fashionmnist_dataloaders\n",
    "import matplotlib.pyplot as plt\n",
    "import numpy as np\n",
    "import danns_eg.deepdensenet as deepdensenets\n",
    "import wandb\n",
    "from torch.cuda.amp import GradScaler, autocast"
   ]
  },
  {
   "cell_type": "code",
   "execution_count": 13,
   "metadata": {},
   "outputs": [],
   "source": [
    "# Fetch runs for a specific project\n",
    "def fetch_runs(api, entity, project_name, filters, order=None):\n",
    "    if order:\n",
    "        runs = api.runs(f\"{entity}/{project_name}\", filters=filters, order=order)\n",
    "    else:\n",
    "        runs = api.runs(f\"{entity}/{project_name}\", filters=filters)\n",
    "    #print(f\"Runs for project '{project_name}':\")\n",
    "    return runs"
   ]
  },
  {
   "cell_type": "code",
   "execution_count": 14,
   "metadata": {},
   "outputs": [],
   "source": [
    "class NestedObject:\n",
    "    def __init__(self, params):\n",
    "        for key, value in params.items():\n",
    "            if isinstance(value, dict):  # If the value is a dictionary, recursively convert it\n",
    "                setattr(self, key, NestedObject(value))\n",
    "            else:\n",
    "                setattr(self, key, value)"
   ]
  },
  {
   "cell_type": "code",
   "execution_count": 4,
   "metadata": {},
   "outputs": [],
   "source": [
    " # model.is_dann, model.homeostasis, model.normtype, model.homeo_opt_exc, opt.lambda_homeo , opt.lambda_homeo_var, opt.use_sep_bias_gain_lrs, model.implicit_homeostatic_loss\n",
    "\n",
    "\n",
    "params = {\n",
    "    \"model\": {\n",
    "        \"is_dann\": 1,\n",
    "        \"homeostasis\": 0,\n",
    "        \"normtype\": 0,\n",
    "        \"implicit_homeostatic_loss\": 0,\n",
    "        \"homeo_opt_exc\": 0,\n",
    "        \"hidden_layer_width\": 200\n",
    "        },\n",
    "    \"opt\": {\n",
    "        \"lambda_homeo\": 1,\n",
    "        \"lambda_homeo_var\": 1,\n",
    "        \"use_sep_bias_gain_lrs\": 0\n",
    "    },\n",
    "}\n",
    "\n",
    "# Create the object from the nested dictionary\n",
    "p = NestedObject(params)"
   ]
  },
  {
   "cell_type": "code",
   "execution_count": 15,
   "metadata": {},
   "outputs": [],
   "source": [
    "# Load FashionMNIST dataset\n",
    "dataloader = get_sparse_permutation_invariant_fashionmnist_dataloaders(permutation_invariant=False, brightness_factor=0.75)\n"
   ]
  },
  {
   "cell_type": "code",
   "execution_count": 16,
   "metadata": {},
   "outputs": [],
   "source": [
    "dataiter = iter(dataloader['train'])\n",
    "images, labels = next(dataiter)"
   ]
  },
  {
   "cell_type": "code",
   "execution_count": 17,
   "metadata": {},
   "outputs": [],
   "source": [
    "api = wandb.Api(timeout=19)"
   ]
  },
  {
   "cell_type": "code",
   "execution_count": 18,
   "metadata": {},
   "outputs": [],
   "source": [
    "bright_factor = 0.75\n",
    "runs_dict = dict()\n",
    "runs_dict[\"runs_homeostasis\"] = fetch_runs(api, entity='project_danns', project_name='Luminosity_NAISYS', filters={\"config.dataset\": \"fashionmnist\", \n",
    "                                                                \"config.brightness_factor\": bright_factor,\"config.homeostasis\": 1, \"config.normtype\": 0,\n",
    "                                                                \"config.use_testset\": True, \"config.task_opt_inhib\": 1, \"config.use_sep_bias_gain_lrs\": 0,\n",
    "                                                                \"config.homeostatic_annealing\": 0, \"config.implicit_homeostatic_loss\": 0 }, order=\"-summary_metrics.test_acc\")"
   ]
  },
  {
   "cell_type": "code",
   "execution_count": 23,
   "metadata": {},
   "outputs": [
    {
     "name": "stdout",
     "output_type": "stream",
     "text": [
      "tensor([[2.4586e-38, 1.0538e-34, 1.0041e-37, 1.3078e-33, 2.3287e-36, 2.3307e-16,\n",
      "         1.8189e-36, 9.2597e-15, 1.6557e-25, 1.0000e+00],\n",
      "        [1.0000e+00, 8.7096e-29, 2.9595e-23, 1.5146e-16, 3.9849e-29, 2.1352e-29,\n",
      "         2.5037e-17, 2.7164e-33, 2.3567e-29, 2.3142e-31],\n",
      "        [2.6477e-03, 2.9595e-02, 1.8392e-09, 9.6775e-01, 3.7298e-06, 1.0170e-11,\n",
      "         3.8157e-11, 2.7369e-09, 2.8470e-11, 6.6110e-11],\n",
      "        [8.3549e-01, 1.1942e-06, 1.9691e-09, 1.6451e-01, 2.1250e-10, 7.2762e-13,\n",
      "         3.7035e-10, 1.1286e-12, 4.3479e-13, 7.0897e-13],\n",
      "        [4.2860e-07, 1.9138e-03, 1.5960e-12, 9.9809e-01, 3.8645e-08, 1.1030e-11,\n",
      "         3.1403e-14, 7.5824e-08, 1.5493e-10, 2.2912e-11],\n",
      "        [3.5082e-18, 6.8038e-20, 1.0000e+00, 1.0857e-16, 1.8442e-10, 2.8431e-18,\n",
      "         3.2379e-14, 5.1212e-23, 4.1910e-19, 3.6390e-23],\n",
      "        [1.6312e-08, 4.6282e-07, 1.8111e-06, 1.4855e-06, 4.7930e-07, 1.5839e-01,\n",
      "         2.7090e-07, 8.4156e-01, 4.3290e-05, 6.4466e-06],\n",
      "        [3.0288e-13, 1.5661e-14, 7.5272e-02, 1.5565e-13, 9.2473e-01, 1.6639e-11,\n",
      "         1.6365e-07, 1.2010e-15, 8.6047e-09, 4.7720e-16],\n",
      "        [3.3706e-21, 1.3048e-22, 4.8466e-20, 2.7538e-20, 7.4328e-23, 1.0000e+00,\n",
      "         3.1450e-20, 1.0883e-17, 5.3259e-17, 1.8605e-12],\n",
      "        [4.6370e-24, 1.8999e-25, 2.0820e-21, 1.2015e-23, 1.2908e-24, 1.0000e+00,\n",
      "         1.1642e-21, 3.9120e-19, 1.3115e-15, 8.1082e-16],\n",
      "        [9.9975e-01, 1.6238e-08, 1.4762e-08, 2.5051e-04, 6.1557e-10, 2.9547e-10,\n",
      "         9.9047e-08, 5.4011e-11, 1.4954e-10, 2.2248e-10],\n",
      "        [5.2796e-27, 7.7848e-25, 1.4066e-24, 5.1959e-22, 1.3355e-26, 3.2596e-17,\n",
      "         1.7272e-26, 2.1369e-14, 9.5370e-26, 1.0000e+00],\n",
      "        [7.4156e-13, 1.6736e-11, 4.5878e-12, 1.1469e-12, 2.7984e-10, 9.9798e-01,\n",
      "         2.6570e-12, 1.7902e-03, 4.1583e-08, 2.2735e-04],\n",
      "        [1.8279e-13, 2.7286e-12, 1.3818e-11, 2.5052e-12, 9.7362e-12, 9.9316e-01,\n",
      "         5.0230e-13, 6.8441e-03, 1.3346e-07, 5.3595e-09],\n",
      "        [1.0670e-25, 4.6194e-22, 5.0462e-24, 6.1139e-22, 7.6823e-25, 2.2210e-15,\n",
      "         1.1942e-25, 1.0000e+00, 1.0851e-19, 2.3859e-16],\n",
      "        [1.2843e-10, 8.2382e-10, 2.1898e-10, 1.5999e-09, 2.1965e-10, 4.0684e-04,\n",
      "         3.9093e-10, 1.5898e-02, 8.7145e-07, 9.8369e-01],\n",
      "        [2.3821e-08, 1.0000e+00, 3.8607e-12, 3.4105e-09, 2.2164e-09, 1.4081e-13,\n",
      "         1.1907e-13, 2.7427e-12, 5.1363e-13, 1.5391e-12],\n",
      "        [1.0000e+00, 3.0915e-23, 2.7448e-21, 2.4651e-12, 5.8144e-23, 6.0977e-26,\n",
      "         1.0808e-14, 2.0857e-28, 1.1302e-26, 3.0415e-27],\n",
      "        [9.7914e-20, 3.4670e-24, 1.0000e+00, 2.4671e-19, 3.0693e-08, 1.8798e-19,\n",
      "         2.9711e-08, 6.0050e-26, 1.0509e-16, 7.5872e-26],\n",
      "        [1.2212e-12, 4.4926e-12, 1.9765e-10, 9.8852e-11, 1.0000e+00, 1.4633e-10,\n",
      "         3.3555e-07, 5.9359e-13, 1.1365e-10, 1.5370e-13],\n",
      "        [4.5897e-15, 2.4878e-13, 4.2251e-26, 1.0000e+00, 5.3691e-24, 2.9490e-26,\n",
      "         4.4351e-27, 1.0279e-20, 2.1451e-26, 5.6739e-24],\n",
      "        [4.6437e-15, 1.0000e+00, 2.9211e-18, 1.7793e-13, 2.0136e-10, 3.4494e-20,\n",
      "         8.8091e-21, 2.4736e-19, 1.3720e-18, 2.9117e-21],\n",
      "        [3.1950e-13, 1.3856e-11, 1.5703e-07, 4.4706e-08, 1.0000e+00, 8.4963e-14,\n",
      "         1.8815e-11, 1.0459e-14, 1.1685e-06, 8.6680e-16],\n",
      "        [6.0844e-24, 2.7587e-26, 4.8789e-25, 7.0054e-26, 2.9890e-18, 3.3052e-20,\n",
      "         5.5387e-21, 2.9012e-22, 1.0000e+00, 2.0684e-22],\n",
      "        [1.6668e-14, 6.2263e-14, 8.3435e-04, 2.3184e-10, 9.9917e-01, 1.8864e-14,\n",
      "         1.6054e-09, 1.9763e-17, 2.6468e-11, 1.2475e-18],\n",
      "        [2.4253e-13, 4.9117e-10, 2.5473e-19, 9.9992e-01, 7.7988e-05, 2.9411e-25,\n",
      "         4.4692e-17, 6.3324e-25, 1.7973e-23, 5.1348e-29],\n",
      "        [1.0000e+00, 2.6154e-19, 2.4944e-13, 1.5352e-11, 1.5995e-18, 5.8375e-18,\n",
      "         1.1460e-09, 2.9371e-21, 1.7328e-18, 1.0887e-20],\n",
      "        [1.3229e-09, 2.9802e-11, 9.9993e-01, 1.3388e-09, 6.6031e-05, 2.6736e-10,\n",
      "         2.4601e-07, 1.0603e-12, 2.7736e-10, 1.2538e-12],\n",
      "        [2.0803e-15, 5.4033e-16, 2.5785e-04, 2.1778e-12, 9.9974e-01, 6.9627e-16,\n",
      "         2.9062e-06, 1.3823e-18, 9.6379e-15, 4.0088e-19],\n",
      "        [3.0497e-14, 9.4897e-15, 1.2924e-06, 1.1244e-11, 1.0000e+00, 1.3650e-09,\n",
      "         2.3172e-07, 2.2743e-14, 1.6911e-06, 5.0571e-17],\n",
      "        [9.8933e-16, 1.1961e-15, 5.6584e-12, 5.6072e-12, 1.4387e-13, 1.0000e+00,\n",
      "         4.1037e-11, 1.9177e-10, 3.7131e-09, 4.7781e-15],\n",
      "        [1.3532e-05, 1.5190e-06, 2.1743e-10, 9.9998e-01, 7.8181e-10, 1.4713e-11,\n",
      "         2.8174e-11, 3.9199e-11, 1.6240e-09, 7.4711e-12]],\n",
      "       grad_fn=<SoftmaxBackward0>)\n"
     ]
    }
   ],
   "source": [
    "for run in runs_dict[\"runs_homeostasis\"]:\n",
    "    params = {\n",
    "        \"model\": {\n",
    "            \"is_dann\": run.config['is_dann'],\n",
    "            \"homeostasis\": run.config['homeostasis'],\n",
    "            \"normtype\": run.config['normtype'],\n",
    "            \"implicit_homeostatic_loss\": run.config['implicit_homeostatic_loss'],\n",
    "            \"homeo_opt_exc\": run.config['homeo_opt_exc'],\n",
    "            \"hidden_layer_width\": run.config['hidden_layer_width']\n",
    "            },\n",
    "        \"opt\": {\n",
    "            \"lambda_homeo\": run.config['lambda_homeo'],\n",
    "            \"lambda_homeo_var\": run.config['lambda_homeo_var'],\n",
    "            \"use_sep_bias_gain_lrs\": run.config['use_sep_bias_gain_lrs']\n",
    "        },\n",
    "    }\n",
    "\n",
    "    # Create the object from the nested dictionary\n",
    "    p = NestedObject(params)\n",
    "\n",
    "    model = deepdensenets.net(p)\n",
    "    model.load_state_dict(torch.load(f\"/network/scratch/r/roy.eyono/explicit_loss_models_fashionmnist_{bright_factor}/{run.name}.pth\", map_location=torch.device('cuda')))\n",
    "    model.eval()\n",
    "    with autocast():\n",
    "        print(model(images.squeeze(1)))\n",
    "    break"
   ]
  },
  {
   "cell_type": "code",
   "execution_count": 5,
   "metadata": {},
   "outputs": [],
   "source": [
    " # model.is_dann, model.homeostasis, model.normtype, model.homeo_opt_exc, opt.lambda_homeo , opt.lambda_homeo_var, opt.use_sep_bias_gain_lrs, model.implicit_homeostatic_loss\n",
    "model = deepdensenets.net(p)"
   ]
  },
  {
   "cell_type": "code",
   "execution_count": null,
   "metadata": {},
   "outputs": [],
   "source": [
    "model(images)"
   ]
  }
 ],
 "metadata": {
  "kernelspec": {
   "display_name": "Python 3.9.16 ('base')",
   "language": "python",
   "name": "python3"
  },
  "language_info": {
   "codemirror_mode": {
    "name": "ipython",
    "version": 3
   },
   "file_extension": ".py",
   "mimetype": "text/x-python",
   "name": "python",
   "nbconvert_exporter": "python",
   "pygments_lexer": "ipython3",
   "version": "3.9.16"
  },
  "orig_nbformat": 4,
  "vscode": {
   "interpreter": {
    "hash": "b43c32d3952eee6df6fb1ce50623906889d4e56d9626a8ed79492ee68359d256"
   }
  }
 },
 "nbformat": 4,
 "nbformat_minor": 2
}
