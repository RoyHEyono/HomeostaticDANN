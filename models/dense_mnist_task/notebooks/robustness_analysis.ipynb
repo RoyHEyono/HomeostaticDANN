{
 "cells": [
  {
   "cell_type": "code",
   "execution_count": 34,
   "metadata": {},
   "outputs": [],
   "source": [
    "import torch\n",
    "import torchvision\n",
    "from danns_eg.data.mnist import get_sparse_permutation_invariant_fashionmnist_dataloaders\n",
    "import matplotlib.pyplot as plt\n",
    "import numpy as np\n",
    "import danns_eg.deepdensenet as deepdensenets\n",
    "import wandb\n",
    "from torch.cuda.amp import GradScaler, autocast\n",
    "import matplotlib.patches as mpatches"
   ]
  },
  {
   "cell_type": "code",
   "execution_count": 2,
   "metadata": {},
   "outputs": [],
   "source": [
    "# Fetch runs for a specific project\n",
    "def fetch_runs(api, entity, project_name, filters, order=None):\n",
    "    if order:\n",
    "        runs = api.runs(f\"{entity}/{project_name}\", filters=filters, order=order)\n",
    "    else:\n",
    "        runs = api.runs(f\"{entity}/{project_name}\", filters=filters)\n",
    "    #print(f\"Runs for project '{project_name}':\")\n",
    "    return runs"
   ]
  },
  {
   "cell_type": "code",
   "execution_count": 3,
   "metadata": {},
   "outputs": [],
   "source": [
    "class NestedObject:\n",
    "    def __init__(self, params):\n",
    "        for key, value in params.items():\n",
    "            if isinstance(value, dict):  # If the value is a dictionary, recursively convert it\n",
    "                setattr(self, key, NestedObject(value))\n",
    "            else:\n",
    "                setattr(self, key, value)"
   ]
  },
  {
   "cell_type": "code",
   "execution_count": 4,
   "metadata": {},
   "outputs": [],
   "source": [
    " # model.is_dann, model.homeostasis, model.normtype, model.homeo_opt_exc, opt.lambda_homeo , opt.lambda_homeo_var, opt.use_sep_bias_gain_lrs, model.implicit_homeostatic_loss\n",
    "\n",
    "\n",
    "params = {\n",
    "    \"model\": {\n",
    "        \"is_dann\": 1,\n",
    "        \"homeostasis\": 0,\n",
    "        \"normtype\": 0,\n",
    "        \"implicit_homeostatic_loss\": 0,\n",
    "        \"homeo_opt_exc\": 0,\n",
    "        \"hidden_layer_width\": 200\n",
    "        },\n",
    "    \"opt\": {\n",
    "        \"lambda_homeo\": 1,\n",
    "        \"lambda_homeo_var\": 1,\n",
    "        \"use_sep_bias_gain_lrs\": 0\n",
    "    },\n",
    "}\n",
    "\n",
    "# Create the object from the nested dictionary\n",
    "p = NestedObject(params)"
   ]
  },
  {
   "cell_type": "code",
   "execution_count": 5,
   "metadata": {},
   "outputs": [],
   "source": [
    "# Load FashionMNIST dataset\n",
    "dataloader = get_sparse_permutation_invariant_fashionmnist_dataloaders(permutation_invariant=False, brightness_factor=0.75)\n"
   ]
  },
  {
   "cell_type": "code",
   "execution_count": 6,
   "metadata": {},
   "outputs": [],
   "source": [
    "dataiter = iter(dataloader['train'])\n",
    "images, labels = next(dataiter)"
   ]
  },
  {
   "cell_type": "code",
   "execution_count": 7,
   "metadata": {},
   "outputs": [],
   "source": [
    "api = wandb.Api(timeout=19)"
   ]
  },
  {
   "cell_type": "code",
   "execution_count": 22,
   "metadata": {},
   "outputs": [],
   "source": [
    "bright_factor = 0.25\n",
    "runs_dict = dict()\n",
    "runs_dict[\"runs_homeostasis\"] = fetch_runs(api, entity='project_danns', project_name='Luminosity_NAISYS', filters={\"config.dataset\": \"fashionmnist\", \n",
    "                                                                \"config.brightness_factor\": bright_factor,\"config.homeostasis\": 1, \"config.normtype\": 0,\n",
    "                                                                \"config.use_testset\": True, \"config.task_opt_inhib\": 1, \"config.use_sep_bias_gain_lrs\": 0,\n",
    "                                                                \"config.homeostatic_annealing\": 0, \"config.implicit_homeostatic_loss\": 0 }, order=\"-summary_metrics.test_acc\")\n",
    "runs_dict[\"runs_vanilla_dann\"] = fetch_runs(api, entity='project_danns', project_name='Luminosity_NAISYS', filters={\"config.dataset\": \"fashionmnist\", \n",
    "                                                            \"config.brightness_factor\": bright_factor, \"config.homeostasis\": 0, \"config.normtype\": 0,\n",
    "                                                            \"config.use_testset\": True}, order=\"-summary_metrics.test_acc\")"
   ]
  },
  {
   "cell_type": "code",
   "execution_count": 23,
   "metadata": {},
   "outputs": [],
   "source": [
    "\n",
    "acc_s = dict.fromkeys(runs_dict.keys())\n",
    "evaluations = [-0.75, -0.5, -0.25, 0, 0.25, 0.5, 0.75]\n",
    "top_N = 10\n",
    "\n",
    "for key in runs_dict:\n",
    "\n",
    "    acc_s[key] = dict.fromkeys(evaluations)\n",
    "\n",
    "    for run in runs_dict[key][:top_N]:\n",
    "        params = {\n",
    "            \"model\": {\n",
    "                \"is_dann\": run.config['is_dann'],\n",
    "                \"homeostasis\": run.config['homeostasis'],\n",
    "                \"normtype\": run.config['normtype'],\n",
    "                \"implicit_homeostatic_loss\": run.config['implicit_homeostatic_loss'],\n",
    "                \"homeo_opt_exc\": run.config['homeo_opt_exc'],\n",
    "                \"hidden_layer_width\": run.config['hidden_layer_width']\n",
    "                },\n",
    "            \"opt\": {\n",
    "                \"lambda_homeo\": run.config['lambda_homeo'],\n",
    "                \"lambda_homeo_var\": run.config['lambda_homeo_var'],\n",
    "                \"use_sep_bias_gain_lrs\": run.config['use_sep_bias_gain_lrs']\n",
    "            },\n",
    "        }\n",
    "\n",
    "        # Create the object from the nested dictionary\n",
    "        p = NestedObject(params)\n",
    "\n",
    "        model = deepdensenets.net(p)\n",
    "        model.load_state_dict(torch.load(f\"/network/scratch/r/roy.eyono/explicit_loss_models_fashionmnist_{bright_factor}/{run.name}.pth\", map_location=torch.device('cuda')))\n",
    "        model.cuda()\n",
    "        model.eval()\n",
    "\n",
    "        \n",
    "\n",
    "        for eval in evaluations:\n",
    "\n",
    "            loader = get_sparse_permutation_invariant_fashionmnist_dataloaders(permutation_invariant=False, brightness_factor_eval=eval)\n",
    "\n",
    "            epoch_correct, total_ims = 0, 0\n",
    "            for idx_batch, (ims, labs) in enumerate(loader['test']):\n",
    "                with autocast():\n",
    "                    ims, labs = ims.squeeze(1).cuda(), labs.cuda()\n",
    "                    out = model(ims)\n",
    "                    batch_correct = out.argmax(1).eq(labs).sum().cpu().item()\n",
    "                    batch_acc = batch_correct / ims.shape[0] * 100\n",
    "                    epoch_correct += batch_correct\n",
    "                    total_ims += ims.shape[0]\n",
    "\n",
    "            epoch_acc = epoch_correct / total_ims * 100\n",
    "            if acc_s[key][eval] is not None:\n",
    "                acc_s[key][eval].append(epoch_acc)\n",
    "            else:\n",
    "                acc_s[key][eval] = [epoch_acc]\n",
    "            \n",
    "            #print(epoch_acc)\n",
    "    "
   ]
  },
  {
   "cell_type": "code",
   "execution_count": 35,
   "metadata": {},
   "outputs": [
    {
     "data": {
      "image/png": "[encoded data removed]",
      "text/plain": [
       "<Figure size 1000x600 with 1 Axes>"
      ]
     },
     "metadata": {},
     "output_type": "display_data"
    }
   ],
   "source": [
    "# Preparing data for the box plot\n",
    "nested_keys = sorted(list(acc_s['runs_homeostasis'].keys()))  # Use sorted keys for consistency\n",
    "homeostasis_data = [acc_s['runs_homeostasis'][key] for key in nested_keys]\n",
    "vanilla_dann_data = [acc_s['runs_vanilla_dann'][key] for key in nested_keys]\n",
    "\n",
    "# Plotting\n",
    "plt.figure(figsize=(10, 6))\n",
    "\n",
    "# Adding boxplots for both runs_homeostasis and runs_vanilla_dann on the same x-ticks\n",
    "positions = np.arange(len(nested_keys))\n",
    "box_width = 0.3  # Width for the boxplots\n",
    "\n",
    "plt.boxplot(homeostasis_data, positions=positions - box_width / 2, widths=box_width, patch_artist=True, boxprops=dict(facecolor='lightblue'), showfliers=False)\n",
    "plt.boxplot(vanilla_dann_data, positions=positions + box_width / 2, widths=box_width, patch_artist=True, boxprops=dict(facecolor='lightgreen'), showfliers=False)\n",
    "\n",
    "# Customizing the plot\n",
    "plt.xticks(ticks=positions, labels=[str(key) for key in nested_keys])\n",
    "plt.title('Overlapping Box Plot for Nested Keys')\n",
    "plt.xlabel('Nested Keys')\n",
    "plt.ylabel('Values')\n",
    "# Creating legend based on face colors\n",
    "lightblue_patch = mpatches.Patch(color='lightblue', label='runs_homeostasis')\n",
    "lightgreen_patch = mpatches.Patch(color='lightgreen', label='runs_vanilla_dann')\n",
    "plt.legend(handles=[lightblue_patch, lightgreen_patch])\n",
    "plt.tight_layout()\n",
    "\n",
    "# Display the plot\n",
    "plt.show()"
   ]
  }
 ],
 "metadata": {
  "kernelspec": {
   "display_name": "Python 3.9.16 ('base')",
   "language": "python",
   "name": "python3"
  },
  "language_info": {
   "codemirror_mode": {
    "name": "ipython",
    "version": 3
   },
   "file_extension": ".py",
   "mimetype": "text/x-python",
   "name": "python",
   "nbconvert_exporter": "python",
   "pygments_lexer": "ipython3",
   "version": "3.9.16"
  },
  "orig_nbformat": 4,
  "vscode": {
   "interpreter": {
    "hash": "b43c32d3952eee6df6fb1ce50623906889d4e56d9626a8ed79492ee68359d256"
   }
  }
 },
 "nbformat": 4,
 "nbformat_minor": 2
}
